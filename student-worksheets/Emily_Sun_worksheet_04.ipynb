{
 "cells": [
  {
   "attachments": {},
   "cell_type": "markdown",
   "metadata": {},
   "source": [
    "# Worksheet 04\n",
    "\n",
    "Name:  \n",
    "UID: \n",
    "\n",
    "### Topics\n",
    "\n",
    "- Distance & Similarity"
   ]
  },
  {
   "cell_type": "markdown",
   "metadata": {},
   "source": [
    "### Distance & Similarity\n",
    "\n",
    "#### Part 1\n",
    "\n",
    "a) In the minkowski distance, describe what the parameters p and d are."
   ]
  },
  {
   "cell_type": "markdown",
   "metadata": {},
   "source": [
    "p determines the type of minkowski distance being calculated (ex: 1 for manhattan, 2 for euclidian).\n",
    "d is the number of dimensions used in the calculation.\n"
   ]
  },
  {
   "cell_type": "markdown",
   "metadata": {},
   "source": [
    "b) In your own words describe the difference between the Euclidean distance and the Manhattan distance."
   ]
  },
  {
   "cell_type": "markdown",
   "metadata": {},
   "source": [
    "Euclidian distance is the shortest distance between 2 points and can be diagonal. Manhattan distance is the shortest distance when you can only go in certain directions (along square grids)."
   ]
  },
  {
   "attachments": {},
   "cell_type": "markdown",
   "metadata": {},
   "source": [
    "Consider A = (0, 0) and B = (1, 1). When:\n",
    "\n",
    "- p = 1, d(A, B) = 2\n",
    "- p = 2, d(A, B) = $\\sqrt{2} = 1.41$\n",
    "- p = 3, d(A, B) = $2^{1/3} = 1.26$\n",
    "- p = 4, d(A, B) = $2^{1/4} = 1.19$\n",
    "\n",
    "c) Describe what you think distance would look like when p is very large."
   ]
  },
  {
   "cell_type": "markdown",
   "metadata": {},
   "source": [
    "d(A, B) = 1 because as p grows, d(A, B) goes towards 1 when A = (0,0) and B = (1,1)"
   ]
  },
  {
   "cell_type": "markdown",
   "metadata": {},
   "source": [
    "d) Is the minkowski distance still a distance function when p < 1? Expain why / why not."
   ]
  },
  {
   "cell_type": "markdown",
   "metadata": {},
   "source": [
    "No, it does violates the triangle inequality. d(A, C) > d(A, B) + d(B, C), when it should be d(A, C) <= d(A, B) + d(B, C)."
   ]
  },
  {
   "cell_type": "markdown",
   "metadata": {},
   "source": [
    "e) when would you use cosine similarity over the euclidan distance?"
   ]
  },
  {
   "cell_type": "markdown",
   "metadata": {},
   "source": [
    "When direction matters more than magnitude, use cosine similarity over the euclidan distance."
   ]
  },
  {
   "cell_type": "markdown",
   "metadata": {},
   "source": [
    "f) what does the jaccard distance account for that the manhattan distance doesn't?"
   ]
  },
  {
   "cell_type": "markdown",
   "metadata": {},
   "source": [
    "Jaccard distance accounts for the size of the intersection, manhattan distance does not."
   ]
  },
  {
   "attachments": {},
   "cell_type": "markdown",
   "metadata": {},
   "source": [
    "#### Part 2\n",
    "\n",
    "Consider the following two sentences:"
   ]
  },
  {
   "cell_type": "code",
   "execution_count": 3,
   "metadata": {},
   "outputs": [],
   "source": [
    "s1 = \"hello my name is Alice\"  \n",
    "s2 = \"hello my name is Bob\""
   ]
  },
  {
   "cell_type": "markdown",
   "metadata": {},
   "source": [
    "using the union of words from both sentences, we can represent each sentence as a vector. Each element of the vector represents the presence or absence of the word at that index.\n",
    "\n",
    "In this example, the union of words is (\"hello\", \"my\", \"name\", \"is\", \"Alice\", \"Bob\") so we can represent the above sentences as such:"
   ]
  },
  {
   "cell_type": "code",
   "execution_count": 4,
   "metadata": {},
   "outputs": [],
   "source": [
    "v1 = [1,    1, 1,   1, 1,    0]\n",
    "#     hello my name is Alice\n",
    "v2 = [1,    1, 1,   1, 0, 1]\n",
    "#     hello my name is    Bob"
   ]
  },
  {
   "attachments": {},
   "cell_type": "markdown",
   "metadata": {},
   "source": [
    "Programmatically, we can do the following:"
   ]
  },
  {
   "cell_type": "code",
   "execution_count": 5,
   "metadata": {},
   "outputs": [
    {
     "name": "stdout",
     "output_type": "stream",
     "text": [
      "['is', 'Alice', 'name', 'my', 'Bob', 'hello']\n",
      "[1, 1, 1, 1, 0, 1]\n"
     ]
    }
   ],
   "source": [
    "corpus = [s1, s2]\n",
    "all_words = list(set([item for x in corpus for item in x.split()]))\n",
    "print(all_words)\n",
    "v1 = [1 if x in s1 else 0 for x in all_words]\n",
    "print(v1)"
   ]
  },
  {
   "cell_type": "markdown",
   "metadata": {},
   "source": [
    "Let's add a new sentence to our corpus:"
   ]
  },
  {
   "cell_type": "code",
   "execution_count": 6,
   "metadata": {},
   "outputs": [],
   "source": [
    "s3 = \"hi my name is Claude\"\n",
    "corpus.append(s3)"
   ]
  },
  {
   "cell_type": "markdown",
   "metadata": {},
   "source": [
    "a) What is the new union of words used to represent s1, s2, and s3?"
   ]
  },
  {
   "cell_type": "code",
   "execution_count": 7,
   "metadata": {},
   "outputs": [
    {
     "name": "stdout",
     "output_type": "stream",
     "text": [
      "['is', 'Alice', 'name', 'my', 'Bob', 'hello', 'hi', 'Claude']\n"
     ]
    }
   ],
   "source": [
    "str3 = s3.split()\n",
    "for word in str3:\n",
    "    if word not in all_words:\n",
    "        all_words.append(word)\n",
    "\n",
    "print(all_words)"
   ]
  },
  {
   "attachments": {},
   "cell_type": "markdown",
   "metadata": {},
   "source": [
    "b) Represent s1, s2, and s3 as vectors as above, using this new set of words."
   ]
  },
  {
   "cell_type": "code",
   "execution_count": 9,
   "metadata": {},
   "outputs": [
    {
     "name": "stdout",
     "output_type": "stream",
     "text": [
      "[1, 1, 1, 1, 0, 1, 0, 0]\n",
      "[1, 0, 1, 1, 1, 1, 0, 0]\n",
      "[1, 0, 1, 1, 0, 0, 1, 1]\n"
     ]
    }
   ],
   "source": [
    "v1 = [1 if word in s1 else 0 for word in all_words]\n",
    "v2 = [1 if word in s2 else 0 for word in all_words]\n",
    "v3 = [1 if word in s3 else 0 for word in all_words]\n",
    "\n",
    "print(v1)\n",
    "print(v2)\n",
    "print(v3)"
   ]
  },
  {
   "cell_type": "markdown",
   "metadata": {},
   "source": [
    "c) Write a function that computes the manhattan distance between two vectors. Which pair of vectors are the most similar under that distance function?"
   ]
  },
  {
   "cell_type": "code",
   "execution_count": 10,
   "metadata": {},
   "outputs": [
    {
     "name": "stdout",
     "output_type": "stream",
     "text": [
      "v1 and v2: 2\n",
      "v1 and v3: 4\n",
      "v2 and v3: 4\n",
      "most similar under manhattan distance function is v1 and v2\n"
     ]
    }
   ],
   "source": [
    "def manhattan_distance(v1, v2):\n",
    "    if len(v1) == len(v2):    \n",
    "        distance = 0\n",
    "        for i in range(len(v1)):\n",
    "            distance += abs(v1[i] - v2[i])\n",
    "    return distance\n",
    "\n",
    "\n",
    "d12 = manhattan_distance(v1, v2)\n",
    "d13 = manhattan_distance(v1, v3)\n",
    "d23 = manhattan_distance(v2, v3)\n",
    "\n",
    "print(\"v1 and v2:\", d12)\n",
    "print(\"v1 and v3:\", d13)\n",
    "print(\"v2 and v3:\", d23)\n",
    "\n",
    "min = d12\n",
    "if (d13<min):\n",
    "    min = d13\n",
    "    print(\"most similar under manhattan distance function is v1 and v3\")\n",
    "elif (d23<min):\n",
    "    min = d23\n",
    "    print(\"most similar under manhattan distance function is v2 and v3\")\n",
    "else :\n",
    "    print(\"most similar under manhattan distance function is v1 and v2\")"
   ]
  },
  {
   "cell_type": "markdown",
   "metadata": {},
   "source": [
    "d) Create a matrix of all these vectors (row major) and add the following sentences in vector form:\n",
    "\n",
    "- \"hi Alice\"\n",
    "- \"hello Claude\"\n",
    "- \"Bob my name is Claude\"\n",
    "- \"hi Claude my name is Alice\"\n",
    "- \"hello Bob\""
   ]
  },
  {
   "cell_type": "code",
   "execution_count": 11,
   "metadata": {},
   "outputs": [
    {
     "name": "stdout",
     "output_type": "stream",
     "text": [
      "[0, 1, 0, 0, 0, 1, 0, 0]\n",
      "[0, 0, 0, 0, 1, 0, 0, 1]\n",
      "[1, 0, 1, 1, 1, 0, 1, 0]\n",
      "[1, 1, 1, 1, 1, 1, 0, 0]\n",
      "[0, 0, 0, 0, 0, 0, 1, 1]\n"
     ]
    }
   ],
   "source": [
    "all_words = list(set([item for x in corpus for item in x.split()]))\n",
    "\n",
    "s1 = \"hi Alice\"\n",
    "s2 = \"hello Claude\"\n",
    "s3 = \"Bob my name is Claude\"\n",
    "s4 = \"hi Claude my name is Alice\"\n",
    "s5 = \"hello Bob\"\n",
    "\n",
    "v1 = [1 if word in s1 else 0 for word in all_words]\n",
    "v2 = [1 if word in s2 else 0 for word in all_words]\n",
    "v3 = [1 if word in s3 else 0 for word in all_words]\n",
    "v4 = [1 if word in s4 else 0 for word in all_words]\n",
    "v5 = [1 if word in s5 else 0 for word in all_words]\n",
    "\n",
    "matrix = [v1, v2, v3, v4, v5]\n",
    "\n",
    "for row in matrix:\n",
    "    print(row)\n"
   ]
  },
  {
   "cell_type": "markdown",
   "metadata": {},
   "source": [
    "e) How many rows and columns does this matrix have?"
   ]
  },
  {
   "cell_type": "code",
   "execution_count": 14,
   "metadata": {},
   "outputs": [
    {
     "name": "stdout",
     "output_type": "stream",
     "text": [
      "rows: 5\n",
      "columns: 8\n"
     ]
    }
   ],
   "source": [
    "print(\"rows:\", len(matrix))\n",
    "print(\"columns:\", len(all_words))"
   ]
  },
  {
   "attachments": {},
   "cell_type": "markdown",
   "metadata": {},
   "source": [
    "f) When using the Manhattan distance, which two sentences are the most similar?"
   ]
  },
  {
   "cell_type": "code",
   "execution_count": 19,
   "metadata": {},
   "outputs": [
    {
     "name": "stdout",
     "output_type": "stream",
     "text": [
      "most similar under manhattan distance function is v2 and v5\n"
     ]
    }
   ],
   "source": [
    "# Calculate Manhattan distances for all pairs of vectors\n",
    "d12 = manhattan_distance(v1, v2)\n",
    "d13 = manhattan_distance(v1, v3)\n",
    "d14 = manhattan_distance(v1, v4)\n",
    "d15 = manhattan_distance(v1, v5)\n",
    "d23 = manhattan_distance(v2, v3)\n",
    "d24 = manhattan_distance(v2, v4)\n",
    "d25 = manhattan_distance(v2, v5)\n",
    "d34 = manhattan_distance(v3, v4)\n",
    "d35 = manhattan_distance(v3, v5)\n",
    "d45 = manhattan_distance(v4, v5)\n",
    "\n",
    "# Find the most similar pair\n",
    "min = d12\n",
    "if d13 < min:\n",
    "    min = d13\n",
    "    output = \"v1 and v3\"\n",
    "elif d14 < min:\n",
    "    min = d14\n",
    "    output = \"v1 and v4\"\n",
    "elif d15 < min:\n",
    "    min = d15\n",
    "    output = \"v1 and v5\"\n",
    "if d23 < min:\n",
    "    min = d23\n",
    "    output = \"v2 and v3\"\n",
    "elif d24 < min:\n",
    "    min = d24\n",
    "    output = \"v2 and v4\"\n",
    "elif d25 < min:\n",
    "    min = d25\n",
    "    output = \"v2 and v5\"\n",
    "elif d34 < min:\n",
    "    min = d34\n",
    "    output = \"v3 and v4\"\n",
    "elif d35 < min:\n",
    "    min = d35\n",
    "    output = \"v3 and v5\"\n",
    "elif d45 < min:\n",
    "    min = d45\n",
    "    output = \"v4 and v5\"\n",
    "else :\n",
    "    output = \"v1 and v2\"\n",
    "\n",
    "\n",
    "print(\"most similar under manhattan distance function is\", output)"
   ]
  },
  {
   "cell_type": "markdown",
   "metadata": {},
   "source": []
  }
 ],
 "metadata": {
  "kernelspec": {
   "display_name": "Python 3",
   "language": "python",
   "name": "python3"
  },
  "language_info": {
   "codemirror_mode": {
    "name": "ipython",
    "version": 3
   },
   "file_extension": ".py",
   "mimetype": "text/x-python",
   "name": "python",
   "nbconvert_exporter": "python",
   "pygments_lexer": "ipython3",
   "version": "3.10.11"
  },
  "orig_nbformat": 4,
  "vscode": {
   "interpreter": {
    "hash": "76ca05dc3ea24b2e3b98cdb7774adfbb40773424bf5109b477fd793f623715af"
   }
  }
 },
 "nbformat": 4,
 "nbformat_minor": 2
}
