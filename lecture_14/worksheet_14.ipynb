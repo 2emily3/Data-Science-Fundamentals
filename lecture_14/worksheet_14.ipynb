{
 "cells": [
  {
   "attachments": {},
   "cell_type": "markdown",
   "metadata": {},
   "source": [
    "# Worksheet 14\n",
    "\n",
    "Name:  Emily Sun\n",
    "UID: U80384430\n",
    "\n",
    "### Topics\n",
    "\n",
    "- Naive Bayes\n",
    "- Model Evaluation\n",
    "\n",
    "- Naive Bayes\n",
    "- Model Evaluation\n",
    "\n",
    "### Naive Bayes\n",
    "\n",
    "| Attribute A | Attribute B | Attribute C | Class |\n",
    "|-------------|-------------|-------------|-------|\n",
    "| Yes         | Single      | High        | No    |\n",
    "| No          | Married     | Mid         | No    |\n",
    "| No          | Single      | Low         | No    |\n",
    "| Yes         | Married     | High        | No    |\n",
    "| No          | Divorced    | Mid         | Yes   |\n",
    "| No          | Married     | Low         | No    |\n",
    "| Yes         | Divorced    | High        | No    |\n",
    "| No          | Single      | Mid         | Yes   |\n",
    "| No          | Married     | Low         | No    |\n",
    "| No          | Single      | Mid         | Yes   |\n",
    "\n",
    "a) Compute the following probabilities:\n",
    "\n",
    "- P(Attribute A = Yes | Class = No)\n",
    "- P(Attribute B = Divorced | Class = Yes)\n",
    "- P(Attribute C = High | Class = No)\n",
    "- P(Attribute C = Mid | Class = Yes)"
   ]
  },
  {
   "cell_type": "markdown",
   "metadata": {},
   "source": [
    "\n",
    "First one, 7 No, 3 are yes so 3/7.\n",
    "\n",
    "Second one, 3 Yes, 1 is divorced so 1/3.\n",
    "\n",
    "Third one, 7 No, all 3 are high so 3/7.\n",
    "\n",
    "Fourth one, 3 Yes, all 3 are mid so 1."
   ]
  },
  {
   "cell_type": "markdown",
   "metadata": {},
   "source": [
    "b) Classify the following unseen records:\n",
    "\n",
    "- (Yes, Married, Mid)\n",
    "- (No, Divorced, High)\n",
    "- (No, Single, High)\n",
    "- (No, Divorced, Low)"
   ]
  },
  {
   "cell_type": "markdown",
   "metadata": {},
   "source": [
    "1: No\n",
    "2: No\n",
    "3: No\n",
    "4: No"
   ]
  },
  {
   "cell_type": "markdown",
   "metadata": {},
   "source": [
    "### Model Evaluation\n",
    "\n",
    "a) Write a function to generate the confusion matrix for a list of actual classes and a list of predicted classes"
   ]
  },
  {
   "cell_type": "code",
   "execution_count": 1,
   "metadata": {},
   "outputs": [
    {
     "name": "stdout",
     "output_type": "stream",
     "text": [
      "         Predicted \n",
      "          Y   N\n",
      "Actual Y  2   1\n",
      "       N  3   4\n",
      "\n"
     ]
    }
   ],
   "source": [
    "actual_class = [\"Yes\", \"No\", \"No\", \"Yes\", \"No\", \"No\", \"Yes\", \"No\", \"No\", \"No\"]\n",
    "predicted_class = [\"Yes\", \"No\", \"Yes\", \"No\", \"No\", \"No\", \"Yes\", \"Yes\", \"Yes\", \"No\"]\n",
    "\n",
    "def confusion_matrix(actual, predicted):\n",
    "    matrix = [[0, 0], [0, 0]]\n",
    "    for i in range(len(actual_class)):\n",
    "        if actual_class[i] == \"Yes\":\n",
    "            if predicted_class[i] == \"Yes\":\n",
    "                matrix[0][0] += 1\n",
    "            else:\n",
    "                matrix[0][1] += 1\n",
    "        else:\n",
    "            if predicted_class[i] == \"Yes\":\n",
    "                matrix[1][0] += 1\n",
    "            else:\n",
    "                matrix[1][1] += 1\n",
    "    return matrix\n",
    "\n",
    "matrix = confusion_matrix(actual_class, predicted_class)\n",
    "\n",
    "matrix_str = \"\"\n",
    "matrix_str += \"         Predicted \\n\"\n",
    "matrix_str += \"          Y   N\\n\"\n",
    "matrix_str += \"Actual Y  \" + str(matrix[0][0]) + \"   \" + str(matrix[0][1]) + \"\\n\"\n",
    "matrix_str += \"       N  \" + str(matrix[1][0]) + \"   \" + str(matrix[1][1]) + \"\\n\"\n",
    "\n",
    "print(matrix_str)"
   ]
  },
  {
   "cell_type": "markdown",
   "metadata": {},
   "source": [
    "b) Assume you have the following Cost Matrix:\n",
    "\n",
    "|            | predicted = Y | predicted = N |\n",
    "|------------|---------------|---------------|\n",
    "| actual = Y |       -1      |       5       |\n",
    "| actual = N |        10     |       0       |\n",
    "\n",
    "What is the cost of the above classification?"
   ]
  },
  {
   "cell_type": "markdown",
   "metadata": {},
   "source": [
    "The cost is 5 * 1 + -1 * 2 + 10 * 3 + 0 * 4 = 33"
   ]
  },
  {
   "cell_type": "markdown",
   "metadata": {},
   "source": [
    "c) Write a function that takes in the actual values, the predictions, and a cost matrix and outputs a cost. Test it on the above example."
   ]
  },
  {
   "cell_type": "code",
   "execution_count": 2,
   "metadata": {},
   "outputs": [
    {
     "data": {
      "text/plain": [
       "33"
      ]
     },
     "execution_count": 2,
     "metadata": {},
     "output_type": "execute_result"
    }
   ],
   "source": [
    "def cost(values, predictions, cost_matrix):\n",
    "    matrix = confusion_matrix(values, predictions)\n",
    "    cost = 0\n",
    "    for i in range(2):\n",
    "        for j in range(2):\n",
    "            cost += matrix[i][j] * cost_matrix[i][j]\n",
    "    return cost\n",
    "\n",
    "cost_matrix = [[-1, 5], [10, 0]]\n",
    "cost(actual_class, predicted_class, cost_matrix)"
   ]
  },
  {
   "cell_type": "markdown",
   "metadata": {},
   "source": [
    "d) Implement functions for the following:\n",
    "\n",
    "- accuracy\n",
    "- precision\n",
    "- recall\n",
    "- f-measure\n",
    "\n",
    "and apply them to the above example."
   ]
  },
  {
   "cell_type": "code",
   "execution_count": 3,
   "metadata": {},
   "outputs": [
    {
     "name": "stdout",
     "output_type": "stream",
     "text": [
      "accuracy is 0.6\n",
      "precision is 0.4\n",
      "recall is 0.6666666666666666\n",
      "f-measure is 0.5\n"
     ]
    }
   ],
   "source": [
    "def accuracy(actual, predictions):\n",
    "    matrix = confusion_matrix(actual, predictions)\n",
    "    return (matrix[0][0] + matrix[1][1])/(matrix[0][0] + matrix[1][1] + matrix[0][1] + matrix[1][0])\n",
    "\n",
    "def precision(actual, predictions):\n",
    "    matrix = confusion_matrix(actual, predictions)\n",
    "    return (matrix[0][0])/(matrix[0][0] + matrix[1][0])\n",
    "\n",
    "def recall(actual, predictions):\n",
    "    mat, mat_str = confusion_matrix(actual, predictions)\n",
    "    return (matrix[0][0])/(matrix[0][0] + matrix[0][1])\n",
    "\n",
    "def fmeasure(actual, predictions):\n",
    "    precisio = precision(actual, predictions)\n",
    "    recal = recall(actual, predictions)\n",
    "    return 2 * recal * precisio / (recal + precisio)\n",
    "\n",
    "print(\"accuracy is \" + str(accuracy(actual_class, predicted_class)))\n",
    "print(\"precision is \" + str(precision(actual_class, predicted_class)))\n",
    "print(\"recall is \" + str(recall(actual_class, predicted_class)))\n",
    "print(\"f-measure is \" + str(fmeasure(actual_class, predicted_class)))"
   ]
  }
 ],
 "metadata": {
  "kernelspec": {
   "display_name": "Python 3 (ipykernel)",
   "language": "python",
   "name": "python3"
  },
  "language_info": {
   "codemirror_mode": {
    "name": "ipython",
    "version": 3
   },
   "file_extension": ".py",
   "mimetype": "text/x-python",
   "name": "python",
   "nbconvert_exporter": "python",
   "pygments_lexer": "ipython3",
   "version": "3.10.11"
  },
  "vscode": {
   "interpreter": {
    "hash": "e7370f93d1d0cde622a1f8e1c04877d8463912d04d973331ad4851f04de6915a"
   }
  }
 },
 "nbformat": 4,
 "nbformat_minor": 4
}
